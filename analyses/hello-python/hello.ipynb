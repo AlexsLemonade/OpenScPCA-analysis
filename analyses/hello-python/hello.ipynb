{
 "cells": [
  {
   "cell_type": "markdown",
   "id": "5ecf8d71-c970-49ad-a908-fb94f43835e9",
   "metadata": {},
   "source": [
    "# Hello OpenScPCA\n",
    "\n",
    "Joshua A. Shapiro, Childhood Cancer Data Lab, ALSF\n",
    "\n",
    "2024-03-19\n"
   ]
  },
  {
   "cell_type": "markdown",
   "id": "abd58442",
   "metadata": {},
   "source": [
    "## Introduction\n",
    "\n",
    "This notebook presents a simple example of an analysis in the OpenScPCA project, using the Python `anndata` module.\n",
    "\n",
    "We will go through the processed AnnData objects in the `data` directory and count the number of cells in each object, plotting the results.\n"
   ]
  },
  {
   "cell_type": "markdown",
   "id": "f7e42626",
   "metadata": {},
   "source": [
    "## Setup\n",
    "\n",
    "Load modules and set initial paths.\n"
   ]
  },
  {
   "cell_type": "code",
   "execution_count": 1,
   "id": "922376d5-331e-4966-910c-1f5540fdc230",
   "metadata": {},
   "outputs": [],
   "source": [
    "# import required modules\n",
    "import pathlib\n",
    "\n",
    "import anndata\n",
    "import git\n",
    "import pandas as pd\n",
    "import session_info"
   ]
  },
  {
   "cell_type": "markdown",
   "id": "7f5a9354",
   "metadata": {},
   "source": [
    "Set the paths to the data, results, and plots directories.\n",
    "Here we use the [`gitpython` module](https://gitpython.readthedocs.io/en/stable/reference.html#git.repo.base.Repo.working_tree_dir) to find the root of the `OpenScPCA-analysis` repository by looking for the (hidden) `.git` directory.\n",
    "Then we define the module, input data, and results directories relative to that root.\n",
    "\n",
    "(You might note that the module directory is the same as this file's location, but the method here works even if we move this notebook to a different location in the repository.)\n"
   ]
  },
  {
   "cell_type": "code",
   "execution_count": 2,
   "id": "d124fed2",
   "metadata": {},
   "outputs": [],
   "source": [
    "# Find the repository root directory\n",
    "repo_root = pathlib.Path(git.Repo(\".\", search_parent_directories=True).working_dir)\n",
    "\n",
    "# set module path (using pathlib)\n",
    "module_root = repo_root / \"analyses\" / \"hello-python\"\n",
    "\n",
    "# set current data directory\n",
    "data_dir = repo_root / \"data\" / \"current\"\n",
    "\n",
    "# set results and plots directories (using the analysis project file to find root)\n",
    "results_dir = module_root / \"results\"\n",
    "plots_dir = module_root / \"plots\""
   ]
  },
  {
   "cell_type": "markdown",
   "id": "b40fb5e9",
   "metadata": {},
   "source": [
    "We will be creating two output files: a table and a plot.\n",
    "Defining their locations in the `Setup` section will make it easy for future users (including us in the future) to know what to expect as output from this notebook.\n"
   ]
  },
  {
   "cell_type": "code",
   "execution_count": 3,
   "id": "49c1e1c1",
   "metadata": {},
   "outputs": [],
   "source": [
    "count_file = results_dir / \"cell_counts.csv\"\n",
    "plot_file = plots_dir / \"cell_counts.pdf\""
   ]
  },
  {
   "cell_type": "markdown",
   "id": "f1fbe4b6",
   "metadata": {},
   "source": [
    "## Functions\n",
    "\n",
    "First, we will define a function to load and count the cells in an AnnData file, returning a project ID, sample ID, library ID, and number of cells.\n"
   ]
  },
  {
   "cell_type": "code",
   "execution_count": 4,
   "id": "32504cce",
   "metadata": {},
   "outputs": [],
   "source": [
    "def count_anndata(anndata_file: pathlib.Path | str) -> tuple[str, str, str, int]:\n",
    "    \"\"\"\n",
    "    Count the number of cells in an anndata file.\n",
    "    Returns a tuple with the Project ID, Sample ID, Library ID, and the number of cells.\n",
    "    \"\"\"\n",
    "    anndata_obj = anndata.read_h5ad(anndata_file)\n",
    "\n",
    "    return (\n",
    "        anndata_obj.uns[\"project_id\"],\n",
    "        anndata_obj.uns[\"sample_id\"],\n",
    "        anndata_obj.uns[\"library_id\"],\n",
    "        anndata_obj.n_obs,\n",
    "    )"
   ]
  },
  {
   "cell_type": "markdown",
   "id": "29fce255",
   "metadata": {},
   "source": [
    "## Count cells and plot\n"
   ]
  },
  {
   "cell_type": "code",
   "execution_count": 5,
   "id": "e2f72b35",
   "metadata": {},
   "outputs": [],
   "source": [
    "# get all processed RNA anndata files in the data directory\n",
    "anndata_files = data_dir.glob(\"**/*processed_rna.hdf5\")\n",
    "\n",
    "# apply our counting function to all of the files and create a data frame of the results\n",
    "count_tuples = (count_anndata(file) for file in anndata_files)\n",
    "cell_counts = pd.DataFrame(\n",
    "    count_tuples, columns=[\"project_id\", \"sample_id\", \"library_id\", \"n_cells\"]\n",
    ")"
   ]
  },
  {
   "cell_type": "markdown",
   "id": "0d29f19b",
   "metadata": {},
   "source": [
    "Let's look at the table of results (or the start of it) to see what we have.\n"
   ]
  },
  {
   "cell_type": "code",
   "execution_count": 6,
   "id": "cf6a82d8",
   "metadata": {},
   "outputs": [
    {
     "data": {
      "text/html": [
       "<div>\n",
       "<style scoped>\n",
       "    .dataframe tbody tr th:only-of-type {\n",
       "        vertical-align: middle;\n",
       "    }\n",
       "\n",
       "    .dataframe tbody tr th {\n",
       "        vertical-align: top;\n",
       "    }\n",
       "\n",
       "    .dataframe thead th {\n",
       "        text-align: right;\n",
       "    }\n",
       "</style>\n",
       "<table border=\"1\" class=\"dataframe\">\n",
       "  <thead>\n",
       "    <tr style=\"text-align: right;\">\n",
       "      <th></th>\n",
       "      <th>project_id</th>\n",
       "      <th>sample_id</th>\n",
       "      <th>library_id</th>\n",
       "      <th>n_cells</th>\n",
       "    </tr>\n",
       "  </thead>\n",
       "  <tbody>\n",
       "    <tr>\n",
       "      <th>0</th>\n",
       "      <td>SCPCP000007</td>\n",
       "      <td>SCPCS000224</td>\n",
       "      <td>SCPCL000298</td>\n",
       "      <td>5285</td>\n",
       "    </tr>\n",
       "    <tr>\n",
       "      <th>1</th>\n",
       "      <td>SCPCP000007</td>\n",
       "      <td>SCPCS000223</td>\n",
       "      <td>SCPCL000297</td>\n",
       "      <td>4029</td>\n",
       "    </tr>\n",
       "    <tr>\n",
       "      <th>2</th>\n",
       "      <td>SCPCP000007</td>\n",
       "      <td>SCPCS000241</td>\n",
       "      <td>SCPCL000359</td>\n",
       "      <td>10556</td>\n",
       "    </tr>\n",
       "    <tr>\n",
       "      <th>3</th>\n",
       "      <td>SCPCP000007</td>\n",
       "      <td>SCPCS000222</td>\n",
       "      <td>SCPCL000296</td>\n",
       "      <td>3548</td>\n",
       "    </tr>\n",
       "    <tr>\n",
       "      <th>4</th>\n",
       "      <td>SCPCP000007</td>\n",
       "      <td>SCPCS000225</td>\n",
       "      <td>SCPCL000299</td>\n",
       "      <td>1649</td>\n",
       "    </tr>\n",
       "    <tr>\n",
       "      <th>5</th>\n",
       "      <td>SCPCP000007</td>\n",
       "      <td>SCPCS000240</td>\n",
       "      <td>SCPCL000363</td>\n",
       "      <td>7981</td>\n",
       "    </tr>\n",
       "    <tr>\n",
       "      <th>6</th>\n",
       "      <td>SCPCP000007</td>\n",
       "      <td>SCPCS000236</td>\n",
       "      <td>SCPCL000353</td>\n",
       "      <td>6320</td>\n",
       "    </tr>\n",
       "    <tr>\n",
       "      <th>7</th>\n",
       "      <td>SCPCP000007</td>\n",
       "      <td>SCPCS000231</td>\n",
       "      <td>SCPCL000371</td>\n",
       "      <td>3190</td>\n",
       "    </tr>\n",
       "    <tr>\n",
       "      <th>8</th>\n",
       "      <td>SCPCP000007</td>\n",
       "      <td>SCPCS000238</td>\n",
       "      <td>SCPCL000357</td>\n",
       "      <td>5902</td>\n",
       "    </tr>\n",
       "    <tr>\n",
       "      <th>9</th>\n",
       "      <td>SCPCP000007</td>\n",
       "      <td>SCPCS000239</td>\n",
       "      <td>SCPCL000361</td>\n",
       "      <td>3630</td>\n",
       "    </tr>\n",
       "  </tbody>\n",
       "</table>\n",
       "</div>"
      ],
      "text/plain": [
       "    project_id    sample_id   library_id  n_cells\n",
       "0  SCPCP000007  SCPCS000224  SCPCL000298     5285\n",
       "1  SCPCP000007  SCPCS000223  SCPCL000297     4029\n",
       "2  SCPCP000007  SCPCS000241  SCPCL000359    10556\n",
       "3  SCPCP000007  SCPCS000222  SCPCL000296     3548\n",
       "4  SCPCP000007  SCPCS000225  SCPCL000299     1649\n",
       "5  SCPCP000007  SCPCS000240  SCPCL000363     7981\n",
       "6  SCPCP000007  SCPCS000236  SCPCL000353     6320\n",
       "7  SCPCP000007  SCPCS000231  SCPCL000371     3190\n",
       "8  SCPCP000007  SCPCS000238  SCPCL000357     5902\n",
       "9  SCPCP000007  SCPCS000239  SCPCL000361     3630"
      ]
     },
     "execution_count": 6,
     "metadata": {},
     "output_type": "execute_result"
    }
   ],
   "source": [
    "# print the first 10 rows of the data frame\n",
    "cell_counts.head(10)"
   ]
  },
  {
   "cell_type": "markdown",
   "id": "4943520b",
   "metadata": {},
   "source": [
    "And now save it to the output file we defined earlier\n"
   ]
  },
  {
   "cell_type": "code",
   "execution_count": 7,
   "id": "24dbe4e6",
   "metadata": {},
   "outputs": [],
   "source": [
    "cell_counts.to_csv(count_file, index=False)"
   ]
  },
  {
   "cell_type": "markdown",
   "id": "57a38aeb",
   "metadata": {},
   "source": [
    "Finally, we will plot these results as a faceted histogram, colored by project ID.\n"
   ]
  },
  {
   "cell_type": "code",
   "execution_count": 8,
   "id": "a06e1354",
   "metadata": {},
   "outputs": [
    {
     "data": {
      "image/png": "[encoded data removed]",
      "text/plain": [
       "<Figure size 640x480 with 2 Axes>"
      ]
     },
     "metadata": {},
     "output_type": "display_data"
    }
   ],
   "source": [
    "count_plot = cell_counts.hist(\n",
    "    column=\"n_cells\", by=\"project_id\", bins=20, sharex=True, sharey=True\n",
    ")"
   ]
  },
  {
   "cell_type": "markdown",
   "id": "b55dc10d",
   "metadata": {},
   "source": [
    "Now let's save the plot.\n"
   ]
  },
  {
   "cell_type": "code",
   "execution_count": 9,
   "id": "ab0b179c",
   "metadata": {},
   "outputs": [],
   "source": [
    "fig = count_plot[0].figure\n",
    "fig.savefig(plot_file)"
   ]
  },
  {
   "cell_type": "markdown",
   "id": "d1b4d0c9",
   "metadata": {},
   "source": [
    "## Session Info\n"
   ]
  },
  {
   "cell_type": "code",
   "execution_count": 10,
   "id": "eb4d84a4",
   "metadata": {},
   "outputs": [
    {
     "data": {
      "text/html": [
       "<details>\n",
       "<summary>Click to view session information</summary>\n",
       "<pre>\n",
       "-----\n",
       "anndata             0.10.6\n",
       "git                 3.1.42\n",
       "matplotlib          3.8.3\n",
       "pandas              2.2.1\n",
       "session_info        1.0.0\n",
       "-----\n",
       "</pre>\n",
       "<details>\n",
       "<summary>Click to view modules imported as dependencies</summary>\n",
       "<pre>\n",
       "CoreFoundation              NA\n",
       "Foundation                  NA\n",
       "PIL                         10.2.0\n",
       "PyObjCTools                 NA\n",
       "anyio                       NA\n",
       "appnope                     0.1.4\n",
       "arrow                       1.3.0\n",
       "asttokens                   NA\n",
       "attr                        23.2.0\n",
       "attrs                       23.2.0\n",
       "babel                       2.14.0\n",
       "brotli                      1.1.0\n",
       "certifi                     2024.02.02\n",
       "cffi                        1.16.0\n",
       "charset_normalizer          3.3.2\n",
       "colorama                    0.4.6\n",
       "comm                        0.2.2\n",
       "cycler                      0.12.1\n",
       "cython_runtime              NA\n",
       "dateutil                    2.8.2\n",
       "debugpy                     1.8.1\n",
       "decorator                   5.1.1\n",
       "defusedxml                  0.7.1\n",
       "executing                   2.0.1\n",
       "fastjsonschema              NA\n",
       "fontTools                   4.48.1\n",
       "fqdn                        NA\n",
       "gitdb                       4.0.11\n",
       "h5py                        3.10.0\n",
       "idna                        3.6\n",
       "ipykernel                   6.29.3\n",
       "ipywidgets                  8.1.2\n",
       "isoduration                 NA\n",
       "jedi                        0.19.1\n",
       "jinja2                      3.1.3\n",
       "json5                       0.9.24\n",
       "jsonpointer                 2.4\n",
       "jsonschema                  4.21.1\n",
       "jsonschema_specifications   NA\n",
       "jupyter_events              0.10.0\n",
       "jupyter_server              2.13.0\n",
       "jupyterlab_server           2.25.4\n",
       "kiwisolver                  1.4.5\n",
       "markupsafe                  2.1.5\n",
       "matplotlib_inline           0.1.6\n",
       "mpl_toolkits                NA\n",
       "natsort                     8.4.0\n",
       "nbformat                    5.10.3\n",
       "numpy                       1.26.4\n",
       "objc                        10.2\n",
       "overrides                   NA\n",
       "packaging                   24.0\n",
       "parso                       0.8.3\n",
       "pexpect                     4.9.0\n",
       "pickleshare                 0.7.5\n",
       "platformdirs                4.2.0\n",
       "prometheus_client           NA\n",
       "prompt_toolkit              3.0.38\n",
       "psutil                      5.9.8\n",
       "ptyprocess                  0.7.0\n",
       "pure_eval                   0.2.2\n",
       "pydev_ipython               NA\n",
       "pydevconsole                NA\n",
       "pydevd                      2.9.5\n",
       "pydevd_file_utils           NA\n",
       "pydevd_plugins              NA\n",
       "pydevd_tracing              NA\n",
       "pygments                    2.17.2\n",
       "pyparsing                   3.1.2\n",
       "pythonjsonlogger            NA\n",
       "pytz                        2024.1\n",
       "referencing                 NA\n",
       "requests                    2.31.0\n",
       "rfc3339_validator           0.1.4\n",
       "rfc3986_validator           0.1.1\n",
       "rpds                        NA\n",
       "ruamel                      NA\n",
       "scipy                       1.12.0\n",
       "send2trash                  NA\n",
       "six                         1.16.0\n",
       "smmap                       5.0.0\n",
       "sniffio                     1.3.1\n",
       "socks                       1.7.1\n",
       "stack_data                  0.6.2\n",
       "tornado                     6.4\n",
       "traitlets                   5.14.2\n",
       "uri_template                NA\n",
       "urllib3                     1.26.18\n",
       "vscode                      NA\n",
       "wcwidth                     0.2.13\n",
       "webcolors                   1.13\n",
       "websocket                   1.7.0\n",
       "yaml                        6.0.1\n",
       "zmq                         25.1.2\n",
       "</pre>\n",
       "</details> <!-- seems like this ends pre, so might as well be explicit -->\n",
       "<pre>\n",
       "-----\n",
       "IPython             8.17.2\n",
       "jupyter_client      8.6.1\n",
       "jupyter_core        5.7.2\n",
       "jupyterlab          4.1.5\n",
       "notebook            7.1.2\n",
       "-----\n",
       "Python 3.11.8 | packaged by conda-forge | (main, Feb 16 2024, 20:49:36) [Clang 16.0.6 ]\n",
       "macOS-14.3.1-arm64-arm-64bit\n",
       "-----\n",
       "Session information updated at 2024-03-19 11:37\n",
       "</pre>\n",
       "</details>"
      ],
      "text/plain": [
       "<IPython.core.display.HTML object>"
      ]
     },
     "execution_count": 10,
     "metadata": {},
     "output_type": "execute_result"
    }
   ],
   "source": [
    "session_info.show()"
   ]
  }
 ],
 "metadata": {
  "kernelspec": {
   "display_name": "Python 3 (ipykernel)",
   "language": "python",
   "name": "python3"
  },
  "language_info": {
   "codemirror_mode": {
    "name": "ipython",
    "version": 3
   },
   "file_extension": ".py",
   "mimetype": "text/x-python",
   "name": "python",
   "nbconvert_exporter": "python",
   "pygments_lexer": "ipython3",
   "version": "3.11.8"
  }
 },
 "nbformat": 4,
 "nbformat_minor": 5
}
