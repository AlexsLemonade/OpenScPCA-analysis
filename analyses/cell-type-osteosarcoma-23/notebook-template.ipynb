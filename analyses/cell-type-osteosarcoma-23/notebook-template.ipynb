{
 "cells": [
  {
   "cell_type": "markdown",
   "id": "5ecf8d71-c970-49ad-a908-fb94f43835e9",
   "metadata": {},
   "source": [
    "# cell-type-osteosarcoma-23 Analysis\n",
    "\n",
    "_Author Name_\n",
    "\n",
    "_Date_\n"
   ]
  },
  {
   "cell_type": "markdown",
   "id": "abd58442",
   "metadata": {},
   "source": [
    "## Introduction\n",
    "\n",
    "This a template for an analysis notebook using Jupyter.\n",
    "\n",
    "It is a good idea to start with a brief introduction to the analysis, including the purpose of the analysis, the data used, and the methods applied.\n",
    "Replace this text with your own introduction, and be sure to update the _Title_, _Author Name_, and _Date_ at the top of the document.\n",
    "\n",
    "Don't forget to rename this file as well!\n"
   ]
  },
  {
   "cell_type": "markdown",
   "id": "f7e42626",
   "metadata": {},
   "source": [
    "## Setup\n"
   ]
  },
  {
   "cell_type": "markdown",
   "id": "b3d030d5",
   "metadata": {},
   "source": [
    "### Load modules\n",
    "\n",
    "Load required Python modules in the following cell.\n",
    "We have included the standard `pathlib` module and the `session_info` module that we will be using at the bottom of this notebook to record the versions of the modules used in this analysis.\n",
    "\n",
    "Do not install modules here; only load them with `import` statements.\n",
    "Avoid renaming modules with `as` statements, unless you are performing a standard renaming (e.g., `import pandas as pd`).\n"
   ]
  },
  {
   "cell_type": "code",
   "execution_count": 1,
   "id": "922376d5-331e-4966-910c-1f5540fdc230",
   "metadata": {},
   "outputs": [],
   "source": [
    "# import required modules\n",
    "import pathlib\n",
    "\n",
    "import session_info"
   ]
  },
  {
   "cell_type": "markdown",
   "id": "7f5a9354",
   "metadata": {},
   "source": [
    "### Paths\n",
    "\n",
    "Setting paths to directories and files for input and output at the start of a notebook can be helpful for organization and reproducibility.\n",
    "You may not know all of the paths you need when you start a notebook, but once you do, keeping them all in one place is helpful, both for yourself in the future and for other users of the notebook.\n"
   ]
  },
  {
   "cell_type": "markdown",
   "id": "86d81532",
   "metadata": {},
   "source": [
    "#### Base directories\n",
    "\n",
    "In the cell below, we include some common directories that you might need in your analysis.\n",
    "We find the repository root by looking for a (hidden) `.git` directory somewhere in the file path that contains this file, then set the data directory and module directories relative to that.\n"
   ]
  },
  {
   "cell_type": "code",
   "execution_count": 2,
   "id": "d124fed2",
   "metadata": {},
   "outputs": [],
   "source": [
    "# Find the repository root directory\n",
    "repo_root = pathlib.Path.cwd()\n",
    "while not (repo_root / \".git\").is_dir():  # search for the .git directory\n",
    "    repo_root = repo_root.parent\n",
    "    if repo_root == \"/\":\n",
    "        raise FileNotFoundError(\"Could not find the repository root directory\")\n",
    "\n",
    "# set module path (using pathlib)\n",
    "module_root = repo_root / \"analyses\" / \"cell-type-osteosarcoma-23\"\n",
    "\n",
    "# set current data directory\n",
    "data_dir = repo_root / \"data\" / \"current\"\n",
    "\n",
    "# set results and plots directories (using the analysis project file to find root)\n",
    "results_dir = module_root / \"results\"\n",
    "plots_dir = module_root / \"plots\""
   ]
  },
  {
   "cell_type": "markdown",
   "id": "b40fb5e9",
   "metadata": {},
   "source": [
    "#### Input and output files\n",
    "\n",
    "Set paths to input and output directories and files in the cell below.\n"
   ]
  },
  {
   "cell_type": "code",
   "execution_count": 3,
   "id": "49c1e1c1",
   "metadata": {},
   "outputs": [],
   "source": [
    "# Input files\n",
    "\n",
    "# Output files\n"
   ]
  },
  {
   "cell_type": "markdown",
   "id": "f1fbe4b6",
   "metadata": {
    "jp-MarkdownHeadingCollapsed": true
   },
   "source": [
    "## Analysis content\n",
    "\n",
    "Organize the remainder of your content into sections and subsections as appropriate for your analysis.\n",
    "\n",
    "Add new Code and Markdown cells as needed using the Jupyter interface or your favorite keyboard shortcuts.\n",
    "For example, you can use **Alt+Enter** on Windows or Linux or **Opt+Return** on a Mac to execute the current cell and insert a new one below.\n",
    "\n",
    "Be sure to comment your code and explain your steps as you go.\n",
    "\n",
    "It is usually a good idea to rerun the entire notebook before sharing any output, to ensure that the notebook and output files are fully up to date.\n",
    "You can do this in the Jupyter Lab or Notebook interface by clicking on the _Kernel_ menu and choosing _Restart Kernel and Run All Cells..._\n"
   ]
  },
  {
   "cell_type": "markdown",
   "id": "d1b4d0c9",
   "metadata": {},
   "source": [
    "## Session Info\n"
   ]
  },
  {
   "cell_type": "code",
   "execution_count": 4,
   "id": "eb4d84a4",
   "metadata": {},
   "outputs": [
    {
     "data": {
      "text/html": [
       "<details>\n",
       "<summary>Click to view session information</summary>\n",
       "<pre>\n",
       "-----\n",
       "session_info        1.0.0\n",
       "-----\n",
       "</pre>\n",
       "<details>\n",
       "<summary>Click to view modules imported as dependencies</summary>\n",
       "<pre>\n",
       "CoreFoundation              NA\n",
       "Foundation                  NA\n",
       "PyObjCTools                 NA\n",
       "anyio                       NA\n",
       "appnope                     0.1.4\n",
       "arrow                       1.3.0\n",
       "asttokens                   NA\n",
       "attr                        23.2.0\n",
       "attrs                       23.2.0\n",
       "babel                       2.14.0\n",
       "brotli                      1.1.0\n",
       "certifi                     2024.02.02\n",
       "charset_normalizer          3.3.2\n",
       "colorama                    0.4.6\n",
       "comm                        0.2.2\n",
       "cython_runtime              NA\n",
       "dateutil                    2.8.2\n",
       "debugpy                     1.8.1\n",
       "decorator                   5.1.1\n",
       "executing                   2.0.1\n",
       "fastjsonschema              NA\n",
       "fqdn                        NA\n",
       "idna                        3.6\n",
       "ipykernel                   6.29.3\n",
       "isoduration                 NA\n",
       "jedi                        0.19.1\n",
       "jinja2                      3.1.3\n",
       "json5                       0.9.24\n",
       "jsonpointer                 2.4\n",
       "jsonschema                  4.21.1\n",
       "jsonschema_specifications   NA\n",
       "jupyter_events              0.10.0\n",
       "jupyter_server              2.13.0\n",
       "jupyterlab_server           2.25.4\n",
       "markupsafe                  2.1.5\n",
       "nbformat                    5.10.3\n",
       "objc                        10.2\n",
       "overrides                   NA\n",
       "packaging                   24.0\n",
       "parso                       0.8.3\n",
       "pexpect                     4.9.0\n",
       "pickleshare                 0.7.5\n",
       "platformdirs                4.2.0\n",
       "prometheus_client           NA\n",
       "prompt_toolkit              3.0.38\n",
       "psutil                      5.9.8\n",
       "ptyprocess                  0.7.0\n",
       "pure_eval                   0.2.2\n",
       "pydev_ipython               NA\n",
       "pydevconsole                NA\n",
       "pydevd                      2.9.5\n",
       "pydevd_file_utils           NA\n",
       "pydevd_plugins              NA\n",
       "pydevd_tracing              NA\n",
       "pygments                    2.17.2\n",
       "pythonjsonlogger            NA\n",
       "referencing                 NA\n",
       "requests                    2.31.0\n",
       "rfc3339_validator           0.1.4\n",
       "rfc3986_validator           0.1.1\n",
       "rpds                        NA\n",
       "ruamel                      NA\n",
       "send2trash                  NA\n",
       "six                         1.16.0\n",
       "sniffio                     1.3.1\n",
       "socks                       1.7.1\n",
       "stack_data                  0.6.2\n",
       "tornado                     6.4\n",
       "traitlets                   5.14.2\n",
       "uri_template                NA\n",
       "urllib3                     1.26.18\n",
       "wcwidth                     0.2.13\n",
       "webcolors                   1.13\n",
       "websocket                   1.7.0\n",
       "yaml                        6.0.1\n",
       "zmq                         25.1.2\n",
       "</pre>\n",
       "</details> <!-- seems like this ends pre, so might as well be explicit -->\n",
       "<pre>\n",
       "-----\n",
       "IPython             8.17.2\n",
       "jupyter_client      8.6.1\n",
       "jupyter_core        5.7.2\n",
       "jupyterlab          4.1.5\n",
       "notebook            7.1.2\n",
       "-----\n",
       "Python 3.11.8 | packaged by conda-forge | (main, Feb 16 2024, 20:49:36) [Clang 16.0.6 ]\n",
       "macOS-14.3.1-arm64-arm-64bit\n",
       "-----\n",
       "Session information updated at 2024-03-20 18:04\n",
       "</pre>\n",
       "</details>"
      ],
      "text/plain": [
       "<IPython.core.display.HTML object>"
      ]
     },
     "execution_count": 4,
     "metadata": {},
     "output_type": "execute_result"
    }
   ],
   "source": [
    "# record the versions of the modules used in this analysis and other environment information\n",
    "session_info.show()"
   ]
  }
 ],
 "metadata": {
  "kernelspec": {
   "display_name": "Python 3 (ipykernel)",
   "language": "python",
   "name": "python3"
  },
  "language_info": {
   "codemirror_mode": {
    "name": "ipython",
    "version": 3
   },
   "file_extension": ".py",
   "mimetype": "text/x-python",
   "name": "python",
   "nbconvert_exporter": "python",
   "pygments_lexer": "ipython3",
   "version": "3.11.8"
  }
 },
 "nbformat": 4,
 "nbformat_minor": 5
}
