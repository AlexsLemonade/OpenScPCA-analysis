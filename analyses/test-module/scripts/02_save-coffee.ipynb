{
 "cells": [
  {
   "cell_type": "code",
   "execution_count": 6,
   "id": "f08a6941-32eb-4f02-a500-2539b3193a93",
   "metadata": {},
   "outputs": [],
   "source": [
    "import pandas as pd"
   ]
  },
  {
   "cell_type": "code",
   "execution_count": 7,
   "id": "a3b4a761-0f2a-4ca8-b8ed-b8ad5202ec0c",
   "metadata": {},
   "outputs": [],
   "source": [
    "coffee_url = \"https://raw.githubusercontent.com/rfordatascience/tidytuesday/master/data/2020/2020-07-07/coffee_ratings.csv\"\n",
    "output_file = \"../results/coffee.tsv\""
   ]
  },
  {
   "cell_type": "code",
   "execution_count": 8,
   "id": "354ffce1-8f19-44e4-8287-734b215bce35",
   "metadata": {},
   "outputs": [],
   "source": [
    "# read csv from url\n",
    "coffee_csv = pd.read_csv(coffee_url)\n",
    "\n",
    "\n",
    "# export as tsv\n",
    "coffee_csv.to_csv(output_file, sep=\"\\t\") "
   ]
  },
  {
   "cell_type": "code",
   "execution_count": null,
   "id": "e78b34a8",
   "metadata": {},
   "outputs": [],
   "source": []
  }
 ],
 "metadata": {
  "kernelspec": {
   "display_name": "Python 3 (ipykernel)",
   "language": "python",
   "name": "python3"
  },
  "language_info": {
   "codemirror_mode": {
    "name": "ipython",
    "version": 3
   },
   "file_extension": ".py",
   "mimetype": "text/x-python",
   "name": "python",
   "nbconvert_exporter": "python",
   "pygments_lexer": "ipython3",
   "version": "3.10.13"
  }
 },
 "nbformat": 4,
 "nbformat_minor": 5
}
